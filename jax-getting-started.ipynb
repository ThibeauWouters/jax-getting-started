{
 "cells": [
  {
   "cell_type": "markdown",
   "metadata": {},
   "source": [
    "# $\\texttt{jax}$ - getting started, a few take-aways"
   ]
  },
  {
   "cell_type": "code",
   "execution_count": 5,
   "metadata": {},
   "outputs": [],
   "source": [
    "import jax\n",
    "import jax.numpy as jnp\n",
    "import numpy as np"
   ]
  },
  {
   "cell_type": "markdown",
   "metadata": {},
   "source": [
    "There are already a great number of excellent resources online for getting started with JAX. This notebook is not intended to be a comprehensive introduction to JAX, but rather a collection of tips and tricks that I have found useful in my own work. I hope you find them useful too!\n",
    "\n",
    "Some selected resources for getting started with JAX:\n",
    "- [JAX documentation](https://jax.readthedocs.io/en/latest/index.html) (of course!), make **sure** to read the common gotchas [here](https://jax.readthedocs.io/en/latest/notebooks/Common_Gotchas_in_JAX.html)\n",
    "- [Awesome jax](https://github.com/n2cholas/awesome-jax): a Github repo with links to all sorts of other jax-based repos.\n",
    "- [get-started-with-jax](https://github.com/gordicaleksa/get-started-with-JAX): a Github repo with a collection of JAX tutorials, from the basics to training neural networks. These cover all things related to jit, vmap, tracer objects,... which I won't discuss here in detail."
   ]
  },
  {
   "cell_type": "markdown",
   "metadata": {},
   "source": [
    "## numpy -> jax.numpy works well"
   ]
  },
  {
   "cell_type": "code",
   "execution_count": 6,
   "metadata": {},
   "outputs": [
    {
     "name": "stdout",
     "output_type": "stream",
     "text": [
      "[1.         1.41421356 1.73205081]\n",
      "[1.        1.4142135 1.7320508]\n",
      "<class 'numpy.ndarray'>\n",
      "<class 'jaxlib.xla_extension.ArrayImpl'>\n"
     ]
    }
   ],
   "source": [
    "def simple_numpy_fn(x):\n",
    "    return np.sqrt(x)\n",
    "\n",
    "def simple_jax_fn(x):\n",
    "    return jnp.sqrt(x)\n",
    "\n",
    "x = np.array([1, 2, 3])\n",
    "\n",
    "print(simple_numpy_fn(x))\n",
    "print(simple_jax_fn(x))\n",
    "\n",
    "print(type(simple_numpy_fn(x)))\n",
    "print(type(simple_jax_fn(x)))"
   ]
  },
  {
   "cell_type": "markdown",
   "metadata": {},
   "source": [
    "## ... but not always"
   ]
  },
  {
   "cell_type": "markdown",
   "metadata": {},
   "source": [
    "Some examples where jax fails compared to numpy:\n",
    "1. Item assignments have to be done differently:"
   ]
  },
  {
   "cell_type": "code",
   "execution_count": 7,
   "metadata": {},
   "outputs": [
    {
     "name": "stdout",
     "output_type": "stream",
     "text": [
      "Numpy\n",
      "[1 2 3]\n",
      "[5 2 3]\n",
      "jax\n",
      "[1 2 3]\n",
      "'<class 'jaxlib.xla_extension.ArrayImpl'>' object does not support item assignment. JAX arrays are immutable. Instead of ``x[idx] = y``, use ``x = x.at[idx].set(y)`` or another .at[] method: https://jax.readthedocs.io/en/latest/_autosummary/jax.numpy.ndarray.at.html\n",
      "[1 2 3]\n"
     ]
    }
   ],
   "source": [
    "# Numpy\n",
    "\n",
    "print(\"Numpy\")\n",
    "x = np.array([1, 2, 3])\n",
    "print(x)\n",
    "x[0] = 5\n",
    "print(x)\n",
    "\n",
    "# Jax\n",
    "print(\"jax\")\n",
    "x = jnp.array([1, 2, 3])\n",
    "print(x)\n",
    "try:\n",
    "    x[0] = 5\n",
    "except Exception as e:\n",
    "    print(e)\n",
    "y = x.at[0].set(5)\n",
    "print(x)"
   ]
  },
  {
   "cell_type": "markdown",
   "metadata": {},
   "source": [
    "2. Functions have to be pure"
   ]
  },
  {
   "cell_type": "code",
   "execution_count": 8,
   "metadata": {},
   "outputs": [
    {
     "name": "stdout",
     "output_type": "stream",
     "text": [
      "Normal function\n",
      "0.0\n",
      "1.0\n",
      "2.0\n",
      "jitted function\n",
      "0.0\n",
      "1.0\n",
      "2.0\n",
      "Now, gobal variable = 100.0\n",
      "Normal function\n",
      "100.0\n",
      "101.0\n",
      "102.0\n",
      "jitted function\n",
      "0.0\n",
      "1.0\n",
      "2.0\n"
     ]
    }
   ],
   "source": [
    "global_variable = 0.0\n",
    "def fn(x):\n",
    "  return x + global_variable\n",
    "\n",
    "fn_jit = jax.jit(fn)\n",
    "\n",
    "print(\"Normal function\")\n",
    "print(fn(0))\n",
    "print(fn(1))\n",
    "print(fn(2))\n",
    "\n",
    "print(\"jitted function\")\n",
    "print(fn_jit(0))\n",
    "print(fn_jit(1))\n",
    "print(fn_jit(2))\n",
    "\n",
    "global_variable = 100.0\n",
    "print(f\"Now, gobal variable = {global_variable}\")\n",
    "print(\"Normal function\")\n",
    "print(fn(0))\n",
    "print(fn(1))\n",
    "print(fn(2))\n",
    "\n",
    "print(\"jitted function\")\n",
    "print(fn_jit(0)) # jit function is not recompiled, uses cached global_variable value\n",
    "print(fn_jit(1))\n",
    "print(fn_jit(2))"
   ]
  },
  {
   "cell_type": "markdown",
   "metadata": {},
   "source": [
    "3. Random numbers are a bit annoying"
   ]
  },
  {
   "cell_type": "code",
   "execution_count": 9,
   "metadata": {},
   "outputs": [
    {
     "name": "stdout",
     "output_type": "stream",
     "text": [
      "Numpy\n",
      "0.13770181082435917\n",
      "0.18422509633936113\n",
      "0.13787038113921923\n",
      "This doesn't work\n",
      "[-0.18471177]\n",
      "[-0.18471177]\n",
      "[-0.18471177]\n",
      "This does!\n",
      "[1.3694694]\n",
      "[-0.19947024]\n",
      "[-2.2982783]\n",
      "Note: the random seed is therefore fixed (rerun this cell to see it)\n"
     ]
    }
   ],
   "source": [
    "# numpy\n",
    "print(\"Numpy\")\n",
    "\n",
    "print(np.random.random())\n",
    "print(np.random.random())\n",
    "print(np.random.random())\n",
    "\n",
    "# jax\n",
    "key = jax.random.PRNGKey(42) # have to keep track of the key\n",
    "\n",
    "print(\"This doesn't work\")\n",
    "print(jax.random.normal(key, shape=(1,)))\n",
    "print(jax.random.normal(key, shape=(1,)))\n",
    "print(jax.random.normal(key, shape=(1,)))\n",
    "\n",
    "print(\"This does!\")\n",
    "key, subkey = jax.random.split(key)\n",
    "print(jax.random.normal(subkey, shape=(1,)))\n",
    "key, subkey = jax.random.split(key)\n",
    "print(jax.random.normal(subkey, shape=(1,)))\n",
    "key, subkey = jax.random.split(key)\n",
    "print(jax.random.normal(subkey, shape=(1,)))\n",
    "\n",
    "print(\"Note: the random seed is therefore fixed (rerun this cell to see it)\")"
   ]
  },
  {
   "cell_type": "markdown",
   "metadata": {},
   "source": [
    "Control flow is annoying as well"
   ]
  },
  {
   "cell_type": "code",
   "execution_count": 10,
   "metadata": {},
   "outputs": [],
   "source": [
    "def my_clip(number):\n",
    "    if number < 0:\n",
    "        return 0\n",
    "    else:\n",
    "        return 1"
   ]
  },
  {
   "cell_type": "code",
   "execution_count": 19,
   "metadata": {},
   "outputs": [
    {
     "name": "stdout",
     "output_type": "stream",
     "text": [
      "0\n",
      "1\n",
      "Attempted boolean conversion of traced array with shape bool[]..\n",
      "The error occurred while tracing the function my_clip at /var/folders/xj/6sk96vdn15385fpjn9nd1rcw0000gp/T/ipykernel_25333/519351608.py:1 for jit. This concrete value was not available in Python because it depends on the value of the argument number.\n",
      "See https://jax.readthedocs.io/en/latest/errors.html#jax.errors.TracerBoolConversionError\n"
     ]
    }
   ],
   "source": [
    "print(my_clip(-1))\n",
    "print(my_clip(5))\n",
    "\n",
    "# make it faster with jit!!! ... or not :(\n",
    "\n",
    "my_clip_jit = jax.jit(my_clip)\n",
    "\n",
    "try:\n",
    "    print(my_clip_jit(-1))\n",
    "    print(my_clip_jit(5))\n",
    "except Exception as e:\n",
    "    print(e)"
   ]
  },
  {
   "cell_type": "markdown",
   "metadata": {},
   "source": [
    "Solution"
   ]
  },
  {
   "cell_type": "code",
   "execution_count": 21,
   "metadata": {},
   "outputs": [
    {
     "name": "stdout",
     "output_type": "stream",
     "text": [
      "0.0\n",
      "1.0\n"
     ]
    }
   ],
   "source": [
    "@jax.jit\n",
    "def my_clip_correct_jit(number):\n",
    "    def less_than_zero(number):\n",
    "        return jnp.array(0.)\n",
    "\n",
    "    def greater_than_zero(number):\n",
    "        return jnp.array(1.)\n",
    "\n",
    "    return jax.lax.cond(number < 0, less_than_zero, greater_than_zero, operand=number)\n",
    "\n",
    "print(my_clip_correct_jit(-1))\n",
    "print(my_clip_correct_jit(5))"
   ]
  },
  {
   "cell_type": "markdown",
   "metadata": {},
   "source": [
    "Smarter solution:"
   ]
  },
  {
   "cell_type": "code",
   "execution_count": null,
   "metadata": {},
   "outputs": [],
   "source": [
    "@jax.jit\n",
    "def my_clip(number):\n",
    "    return jnp.clip(number, 0, 1)"
   ]
  },
  {
   "cell_type": "markdown",
   "metadata": {},
   "source": [
    "# $\\texttt{jax}$ sharp bits"
   ]
  },
  {
   "cell_type": "markdown",
   "metadata": {},
   "source": [
    "Make sure to read [the sharp bits page of jax](https://jax.readthedocs.io/en/latest/notebooks/Common_Gotchas_in_JAX.html) and also the [FAQ page](https://jax.readthedocs.io/en/latest/faq.html) in order to learn how to code in jax and avoid common pitfalls."
   ]
  },
  {
   "cell_type": "markdown",
   "metadata": {},
   "source": [
    "## NaNs in gradients with `jnp.where`"
   ]
  },
  {
   "cell_type": "markdown",
   "metadata": {},
   "source": [
    "There is some obscure bug that seems to be bugging me right now (pun not intended). The problem I have can be described as follows.\n",
    "\n",
    "I have some code with gradients that works fine. But once the code is jitted, things become problematic and I get NaNs. The NaNs escape me, but they are flagged when the jax config is set to `jax.config.update('jax_debug_nans', True)`. The NaNs are not flagged when the code is not jitted. \n",
    "\n",
    "After some debugging and Googling, the problem seems to come from the use of `jnp.where`. See the FAQ page for information.\n",
    "\n",
    "Let's see a simple example that reproduces the problem."
   ]
  },
  {
   "cell_type": "code",
   "execution_count": 12,
   "metadata": {},
   "outputs": [],
   "source": [
    "def my_log(x: float):\n",
    "    \"\"\"\n",
    "    Compute the logarithm but make sure the entry is positive, for which we use where.\n",
    "\n",
    "    Args:\n",
    "        x (float): A number, hopefully positive\n",
    "\n",
    "    Returns:\n",
    "        float: The log of the number, hopefully\n",
    "    \"\"\"\n",
    "    return jnp.where(x > 0., jnp.log(x), 0.)"
   ]
  },
  {
   "cell_type": "code",
   "execution_count": 13,
   "metadata": {},
   "outputs": [
    {
     "name": "stdout",
     "output_type": "stream",
     "text": [
      "0.0\n",
      "nan\n"
     ]
    }
   ],
   "source": [
    "print(my_log(0.)) # OK\n",
    "print(jax.grad(my_log)(0.)) # NaN"
   ]
  },
  {
   "cell_type": "markdown",
   "metadata": {},
   "source": [
    "From the FAQ documentation page that discusses this ([link](https://jax.readthedocs.io/en/latest/faq.html#gradients-contain-nan-where-using-where)), here is a short explanation:\n",
    ">A short explanation is that during grad computation the adjoint corresponding to the undefined jnp.log(x) is a NaN and it gets accumulated to the adjoint of the jnp.where. The correct way to write such functions is to ensure that there is a jnp.where inside the partially-defined function, to ensure that the adjoint is always finite:"
   ]
  },
  {
   "cell_type": "code",
   "execution_count": 14,
   "metadata": {},
   "outputs": [],
   "source": [
    "def safe_for_grad_log(x):\n",
    "    return jnp.log(jnp.where(x > 0., x, 1.))"
   ]
  },
  {
   "cell_type": "code",
   "execution_count": 15,
   "metadata": {},
   "outputs": [
    {
     "name": "stdout",
     "output_type": "stream",
     "text": [
      "0.0\n",
      "0.0\n"
     ]
    }
   ],
   "source": [
    "print(safe_for_grad_log(0.)) # OK!\n",
    "print(jax.grad(safe_for_grad_log)(0.)) # OK!"
   ]
  },
  {
   "cell_type": "markdown",
   "metadata": {},
   "source": [
    "Another example:"
   ]
  },
  {
   "cell_type": "code",
   "execution_count": 16,
   "metadata": {},
   "outputs": [],
   "source": [
    "def my_log_or_y(x, y):\n",
    "  \"\"\"Return log(x) if x > 0 or y\"\"\"\n",
    "  return jnp.where(x > 0., jnp.log(jnp.where(x > 0., x, 1.)), y)"
   ]
  },
  {
   "cell_type": "code",
   "execution_count": 17,
   "metadata": {},
   "outputs": [
    {
     "name": "stdout",
     "output_type": "stream",
     "text": [
      "5.0\n",
      "0.0\n"
     ]
    }
   ],
   "source": [
    "print(my_log_or_y(0., 5.)) # OK!\n",
    "print(jax.grad(my_log_or_y)(0., 5.)) # OK!"
   ]
  }
 ],
 "metadata": {
  "kernelspec": {
   "display_name": "jax",
   "language": "python",
   "name": "python3"
  },
  "language_info": {
   "codemirror_mode": {
    "name": "ipython",
    "version": 3
   },
   "file_extension": ".py",
   "mimetype": "text/x-python",
   "name": "python",
   "nbconvert_exporter": "python",
   "pygments_lexer": "ipython3",
   "version": "3.12.0"
  },
  "orig_nbformat": 4
 },
 "nbformat": 4,
 "nbformat_minor": 2
}
