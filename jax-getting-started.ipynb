{
 "cells": [
  {
   "cell_type": "markdown",
   "metadata": {},
   "source": [
    "# jax - getting started, a few take-aways"
   ]
  },
  {
   "cell_type": "code",
   "execution_count": 91,
   "metadata": {},
   "outputs": [],
   "source": [
    "import jax\n",
    "import jax.numpy as jnp\n",
    "import numpy as np"
   ]
  },
  {
   "cell_type": "markdown",
   "metadata": {},
   "source": [
    "There are already a great number of excellent resources online for getting started with JAX. This notebook is not intended to be a comprehensive introduction to JAX, but rather a collection of tips and tricks that I have found useful in my own work. I hope you find them useful too!\n",
    "\n",
    "Some selected resources for getting started with JAX:\n",
    "- [JAX documentation](https://jax.readthedocs.io/en/latest/index.html) (of course!), make **sure** to read the common gotchas [here](https://jax.readthedocs.io/en/latest/notebooks/Common_Gotchas_in_JAX.html)\n",
    "- [Awesome jax](https://github.com/n2cholas/awesome-jax): a Github repo with links to all sorts of other jax-based repos.\n",
    "- [get-started-with-jax](https://github.com/gordicaleksa/get-started-with-JAX): a Github repo with a collection of JAX tutorials, from the basics to training neural networks. These cover all things related to jit, vmap, tracer objects,... which I won't discuss here in detail."
   ]
  },
  {
   "cell_type": "markdown",
   "metadata": {},
   "source": [
    "## numpy -> jax.numpy works well"
   ]
  },
  {
   "cell_type": "code",
   "execution_count": 92,
   "metadata": {},
   "outputs": [
    {
     "name": "stdout",
     "output_type": "stream",
     "text": [
      "[1.         1.41421356 1.73205081]\n",
      "[1.        1.4142135 1.7320508]\n",
      "<class 'numpy.ndarray'>\n",
      "<class 'jaxlib.xla_extension.ArrayImpl'>\n"
     ]
    }
   ],
   "source": [
    "# Write some very basic function implementing numpy functionalities, then show the same can be done with jax.numpy\n",
    "\n",
    "def simple_numpy_fn(x):\n",
    "    return np.sqrt(x)\n",
    "\n",
    "def simple_jax_fn(x):\n",
    "    return jnp.sqrt(x)\n",
    "\n",
    "x = np.array([1, 2, 3])\n",
    "\n",
    "print(simple_numpy_fn(x))\n",
    "print(simple_jax_fn(x))\n",
    "\n",
    "print(type(simple_numpy_fn(x)))\n",
    "print(type(simple_jax_fn(x)))"
   ]
  },
  {
   "cell_type": "markdown",
   "metadata": {},
   "source": [
    "## ... but not always"
   ]
  },
  {
   "cell_type": "markdown",
   "metadata": {},
   "source": [
    "Some examples where jax fails compared to numpy:\n",
    "1. Item assignments have to be done differently:"
   ]
  },
  {
   "cell_type": "code",
   "execution_count": 93,
   "metadata": {},
   "outputs": [
    {
     "name": "stdout",
     "output_type": "stream",
     "text": [
      "Numpy\n",
      "[1 2 3]\n",
      "[5 2 3]\n",
      "jax\n",
      "[1 2 3]\n",
      "'<class 'jaxlib.xla_extension.ArrayImpl'>' object does not support item assignment. JAX arrays are immutable. Instead of ``x[idx] = y``, use ``x = x.at[idx].set(y)`` or another .at[] method: https://jax.readthedocs.io/en/latest/_autosummary/jax.numpy.ndarray.at.html\n",
      "[1 2 3]\n"
     ]
    }
   ],
   "source": [
    "# Numpy\n",
    "\n",
    "print(\"Numpy\")\n",
    "x = np.array([1, 2, 3])\n",
    "print(x)\n",
    "x[0] = 5\n",
    "print(x)\n",
    "\n",
    "# Jax\n",
    "print(\"jax\")\n",
    "x = jnp.array([1, 2, 3])\n",
    "print(x)\n",
    "try:\n",
    "    x[0] = 5\n",
    "except Exception as e:\n",
    "    print(e)\n",
    "y = x.at[0].set(5)\n",
    "print(x)"
   ]
  },
  {
   "cell_type": "markdown",
   "metadata": {},
   "source": [
    "2. Functions have to be pure"
   ]
  },
  {
   "cell_type": "code",
   "execution_count": 94,
   "metadata": {},
   "outputs": [
    {
     "name": "stdout",
     "output_type": "stream",
     "text": [
      "Normal function\n",
      "0.0\n",
      "1.0\n",
      "2.0\n",
      "jitted function\n",
      "0.0\n",
      "1.0\n",
      "2.0\n",
      "Now, gobal variable = 100.0\n",
      "Normal function\n",
      "100.0\n",
      "101.0\n",
      "102.0\n",
      "jitted function\n",
      "0.0\n",
      "1.0\n",
      "2.0\n"
     ]
    }
   ],
   "source": [
    "global_variable = 0.0\n",
    "def fn(x):\n",
    "  return x + global_variable\n",
    "fn_jit = jax.jit(fn)\n",
    "print(\"Normal function\")\n",
    "print(fn(0))\n",
    "print(fn(1))\n",
    "print(fn(2))\n",
    "\n",
    "print(\"jitted function\")\n",
    "print(fn_jit(0))\n",
    "print(fn_jit(1))\n",
    "print(fn_jit(2))\n",
    "\n",
    "global_variable = 100.0\n",
    "print(f\"Now, gobal variable = {global_variable}\")\n",
    "print(\"Normal function\")\n",
    "print(fn(0))\n",
    "print(fn(1))\n",
    "print(fn(2))\n",
    "\n",
    "print(\"jitted function\")\n",
    "print(fn_jit(0)) # jit function is not recompiled, uses cached global_variable value\n",
    "print(fn_jit(1))\n",
    "print(fn_jit(2))"
   ]
  },
  {
   "cell_type": "markdown",
   "metadata": {},
   "source": [
    "3. Random numbers are a bit annoying"
   ]
  },
  {
   "cell_type": "code",
   "execution_count": 95,
   "metadata": {},
   "outputs": [
    {
     "name": "stdout",
     "output_type": "stream",
     "text": [
      "Numpy\n",
      "0.5362616646686718\n",
      "0.4502403097327451\n",
      "0.9086285597347172\n",
      "This doesn't work\n",
      "[-0.18471177]\n",
      "[-0.18471177]\n",
      "[-0.18471177]\n",
      "This does!\n",
      "[1.3694694]\n",
      "[-0.19947024]\n",
      "[-2.2982783]\n",
      "Note: the random seed is therefore fixed (rerun this cell to see it)\n"
     ]
    }
   ],
   "source": [
    "# numpy\n",
    "print(\"Numpy\")\n",
    "\n",
    "print(np.random.random())\n",
    "print(np.random.random())\n",
    "print(np.random.random())\n",
    "\n",
    "# jax\n",
    "key = jax.random.PRNGKey(42) # have to keep track of the key\n",
    "\n",
    "print(\"This doesn't work\")\n",
    "print(jax.random.normal(key, shape=(1,)))\n",
    "print(jax.random.normal(key, shape=(1,)))\n",
    "print(jax.random.normal(key, shape=(1,)))\n",
    "\n",
    "print(\"This does!\")\n",
    "key, subkey = jax.random.split(key)\n",
    "print(jax.random.normal(subkey, shape=(1,)))\n",
    "key, subkey = jax.random.split(key)\n",
    "print(jax.random.normal(subkey, shape=(1,)))\n",
    "key, subkey = jax.random.split(key)\n",
    "print(jax.random.normal(subkey, shape=(1,)))\n",
    "\n",
    "print(\"Note: the random seed is therefore fixed (rerun this cell to see it)\")"
   ]
  },
  {
   "cell_type": "code",
   "execution_count": null,
   "metadata": {},
   "outputs": [],
   "source": []
  }
 ],
 "metadata": {
  "kernelspec": {
   "display_name": "jax",
   "language": "python",
   "name": "python3"
  },
  "language_info": {
   "codemirror_mode": {
    "name": "ipython",
    "version": 3
   },
   "file_extension": ".py",
   "mimetype": "text/x-python",
   "name": "python",
   "nbconvert_exporter": "python",
   "pygments_lexer": "ipython3",
   "version": "3.12.0"
  },
  "orig_nbformat": 4
 },
 "nbformat": 4,
 "nbformat_minor": 2
}
