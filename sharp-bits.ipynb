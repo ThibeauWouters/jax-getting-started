{
 "cells": [
  {
   "cell_type": "markdown",
   "metadata": {},
   "source": [
    "# $\\texttt{jax}$: my sharp bits"
   ]
  },
  {
   "cell_type": "markdown",
   "metadata": {},
   "source": [
    "**Abstract**: There are a lot of sharp bits already covered in the official documentation (look [here](https://jax.readthedocs.io/en/latest/notebooks/Common_Gotchas_in_JAX.html)), but I found some of them are not so easy to find. So I decided to write this note to record some of them that I personally came across and had issues with debugging."
   ]
  },
  {
   "cell_type": "code",
   "execution_count": 3,
   "metadata": {},
   "outputs": [],
   "source": [
    "import jax\n",
    "import jax.numpy as jnp\n",
    "import numpy as np"
   ]
  },
  {
   "cell_type": "markdown",
   "metadata": {},
   "source": [
    "# NaNs in gradients and `jnp.where`"
   ]
  },
  {
   "cell_type": "markdown",
   "metadata": {},
   "source": [
    "There is some obscure bug that seems to be bugging me right now (pun not intended). The problem I have can be described as follows.\n",
    "\n",
    "I have some code with gradients that works fine. But once the code is jitted, things become problematic and I get NaNs. The NaNs escape me, but they are flagged when the jax config is set to `jax.config.update('jax_debug_nans', True)`. The NaNs are not flagged when the code is not jitted. \n",
    "\n",
    "After some debugging and Googling, the problem seems to come from the use of `jnp.where`. Let's see a simple example that reproduces the problem."
   ]
  },
  {
   "cell_type": "code",
   "execution_count": 4,
   "metadata": {},
   "outputs": [],
   "source": [
    "def my_log(x: float):\n",
    "    \"\"\"\n",
    "    Compute the logarithm but make sure the entry is positive, for which we use where.\n",
    "\n",
    "    Args:\n",
    "        x (float): A number, hopefully positive\n",
    "\n",
    "    Returns:\n",
    "        float: The log of the number, hopefully\n",
    "    \"\"\"\n",
    "    return jnp.where(x > 0., jnp.log(x), 0.)"
   ]
  },
  {
   "cell_type": "code",
   "execution_count": 5,
   "metadata": {},
   "outputs": [
    {
     "data": {
      "text/plain": [
       "Array(0., dtype=float32, weak_type=True)"
      ]
     },
     "execution_count": 5,
     "metadata": {},
     "output_type": "execute_result"
    }
   ],
   "source": [
    "my_log(0.) # works OK"
   ]
  },
  {
   "cell_type": "code",
   "execution_count": 6,
   "metadata": {},
   "outputs": [
    {
     "data": {
      "text/plain": [
       "Array(nan, dtype=float32, weak_type=True)"
      ]
     },
     "execution_count": 6,
     "metadata": {},
     "output_type": "execute_result"
    }
   ],
   "source": [
    "jax.grad(my_log)(0.) # gives NaN"
   ]
  },
  {
   "cell_type": "markdown",
   "metadata": {},
   "source": [
    "From the FAQ documentation page that discusses this ([link](https://jax.readthedocs.io/en/latest/faq.html#gradients-contain-nan-where-using-where)):\n",
    ">A short explanation is that during grad computation the adjoint corresponding to the undefined jnp.log(x) is a NaN and it gets accumulated to the adjoint of the jnp.where. The correct way to write such functions is to ensure that there is a jnp.where inside the partially-defined function, to ensure that the adjoint is always finite:"
   ]
  },
  {
   "cell_type": "code",
   "execution_count": 7,
   "metadata": {},
   "outputs": [],
   "source": [
    "def safe_for_grad_log(x):\n",
    "    return jnp.log(jnp.where(x > 0., x, 1.))"
   ]
  },
  {
   "cell_type": "code",
   "execution_count": 8,
   "metadata": {},
   "outputs": [
    {
     "name": "stdout",
     "output_type": "stream",
     "text": [
      "0.0\n",
      "0.0\n"
     ]
    }
   ],
   "source": [
    "print(safe_for_grad_log(0.)) # OK!\n",
    "print(jax.grad(safe_for_grad_log)(0.)) # OK!"
   ]
  },
  {
   "cell_type": "markdown",
   "metadata": {},
   "source": [
    "The documentation page also mentions you might need another where (note that the documentation page has a syntax error in that cell):"
   ]
  },
  {
   "cell_type": "code",
   "execution_count": 9,
   "metadata": {},
   "outputs": [],
   "source": [
    "def my_log_or_y(x, y):\n",
    "  \"\"\"Return log(x) if x > 0 or y\"\"\"\n",
    "  return jnp.where(x > 0., jnp.log(jnp.where(x > 0., x, 1.)), y)"
   ]
  },
  {
   "cell_type": "code",
   "execution_count": 10,
   "metadata": {},
   "outputs": [
    {
     "name": "stdout",
     "output_type": "stream",
     "text": [
      "5.0\n",
      "0.0\n"
     ]
    }
   ],
   "source": [
    "print(my_log_or_y(0., 5.)) # OK!\n",
    "print(jax.grad(my_log_or_y)(0., 5.)) # OK!"
   ]
  },
  {
   "cell_type": "code",
   "execution_count": null,
   "metadata": {},
   "outputs": [],
   "source": []
  }
 ],
 "metadata": {
  "kernelspec": {
   "display_name": "jax",
   "language": "python",
   "name": "python3"
  },
  "language_info": {
   "codemirror_mode": {
    "name": "ipython",
    "version": 3
   },
   "file_extension": ".py",
   "mimetype": "text/x-python",
   "name": "python",
   "nbconvert_exporter": "python",
   "pygments_lexer": "ipython3",
   "version": "3.12.0"
  },
  "orig_nbformat": 4
 },
 "nbformat": 4,
 "nbformat_minor": 2
}
